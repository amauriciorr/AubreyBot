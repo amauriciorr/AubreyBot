{
 "cells": [
  {
   "cell_type": "code",
   "execution_count": 1,
   "metadata": {},
   "outputs": [],
   "source": [
    "import lyricsgenius\n",
    "from lyricsgenius.api import *"
   ]
  },
  {
   "cell_type": "code",
   "execution_count": 2,
   "metadata": {},
   "outputs": [
    {
     "data": {
      "text/plain": [
       "'\\ntry:\\n    --adapt from/ take and refactor loop from Genius.search_artist()--\\n    --REMEMBER to accumulate/collect song IDs as you go on, such that when you resume loop--\\n    --continue adding to Artist object--\\nexcept requests.exceptions.ReadTimeout as e:\\n    time.sleep(max(self._SLEEP_MIN, self.sleep_time))\\n    ^something like this but not necessarily the same\\n\\n'"
      ]
     },
     "execution_count": 2,
     "metadata": {},
     "output_type": "execute_result"
    }
   ],
   "source": [
    "# https://stackoverflow.com/questions/21407147/python-requests-exception-type-connectionerror-try-except-does-not-work\n",
    "# below is specific exception we need to avoid\n",
    "# requests.exceptions.ReadTimeout\n",
    "# use it in the following way\n",
    "\"\"\"\n",
    "try:\n",
    "    --adapt from/ take and refactor loop from Genius.search_artist()--\n",
    "    --REMEMBER to accumulate/collect song IDs as you go on, such that when you resume loop--\n",
    "    --continue adding to Artist object--\n",
    "except requests.exceptions.ReadTimeout as e:\n",
    "    time.sleep(max(self._SLEEP_MIN, self.sleep_time))\n",
    "    ^something like this but not necessarily the same\n",
    "\n",
    "\"\"\""
   ]
  },
  {
   "cell_type": "code",
   "execution_count": 3,
   "metadata": {},
   "outputs": [],
   "source": [
    "with open('./Lyrics_Drake_draft.json', 'r') as f:\n",
    "    lyrics = json.load(f)"
   ]
  },
  {
   "cell_type": "code",
   "execution_count": 26,
   "metadata": {
    "scrolled": true
   },
   "outputs": [],
   "source": [
    "test_lyrics = lyrics['songs'][0]['lyrics']"
   ]
  },
  {
   "cell_type": "code",
   "execution_count": 27,
   "metadata": {},
   "outputs": [
    {
     "data": {
      "text/plain": [
       "'[Intro]\\nAnd they wishin\\' and wishin\\' and wishin\\' and wishin\\'\\nThey wishin\\' on me, yuh\\n\\n[Verse 1]\\nI been movin\\' calm, don\\'t start no trouble with me\\nTryna keep it peaceful is a struggle for me\\nDon\\'t pull up at 6 AM to cuddle with me\\nYou know how I like it when you lovin\\' on me\\nI don\\'t wanna die for them to miss me\\nYes, I see the things that they wishin\\' on me\\nHope I got some brothers that outlive me\\nThey gon\\' tell the story, shit was different with me\\n\\n[Chorus]\\nGod\\'s plan, God\\'s plan\\nI hold back, sometimes I won\\'t, yuh\\nI feel good, sometimes I don\\'t, ayy, don\\'t\\nI finessed down Weston Road, ayy, \\'nessed\\nMight go down a G.O.D., yeah, wait\\nI go hard on Southside G, yuh, wait\\nI make sure that north-side eat\\n\\n[Post-Chorus]\\nAnd still, bad things\\nIt\\'s a lot of bad things\\nThat they wishin\\' and wishin\\' and wishin\\' and wishin\\'\\nThey wishin\\' on me\\nBad things\\nIt\\'s a lot of bad things\\nThat they wishin\\' and wishin\\' and wishin\\' and wishin\\'\\nThey wishin\\' on me\\nYuh, ayy, ayy\\n\\n[Verse 2]\\nShe say, \"Do you love me?\" I tell her, \"Only partly\\nI only love my bed and my mama, I\\'m sorry\"\\nFifty Dub, I even got it tatted on me\\n81, they\\'ll bring the crashers to the party\\nAnd you know me\\nTurn the O2 into the O3, dog\\nWithout 40, Oli, there\\'d be no me\\n\\'Magine if I never met the broskies\\n\\n[Chorus]\\nGod\\'s plan, God\\'s plan\\nI can\\'t do this on my own, ayy, no, ayy\\nSomeone watchin\\' this shit close, yep, close\\nI\\'ve been me since Scarlett Road, ayy, road, ayy\\nMight go down as G.O.D., yeah, wait\\nI go hard on Southside G, ayy, wait\\nI make sure that north-side eat, yuh\\n\\n[Post-Chorus]\\nAnd still, bad things\\nIt\\'s a lot of bad things\\nThat they wishin\\' and wishin\\' and wishin\\' and wishin\\'\\nThey wishin\\' on me, yeah, yeah\\nBad things\\nIt\\'s a lot of bad things\\nThat they wishin\\' and wishin\\' and wishin\\' and wishin\\'\\nThey wishin\\' on me, yeah'"
      ]
     },
     "execution_count": 27,
     "metadata": {},
     "output_type": "execute_result"
    }
   ],
   "source": [
    "test_lyrics"
   ]
  },
  {
   "cell_type": "code",
   "execution_count": 6,
   "metadata": {},
   "outputs": [],
   "source": [
    "import re\n",
    "SONG_PART_REGEX = re.compile(r'\\[\\w+\\W?\\s?\\w*\\d?\\]', re.UNICODE)\n",
    "song = SONG_PART_REGEX.sub('', test_lyrics)"
   ]
  },
  {
   "cell_type": "code",
   "execution_count": 19,
   "metadata": {},
   "outputs": [],
   "source": [
    "def create_text_and_target(song):\n",
    "    \"\"\"\n",
    "    TODO\n",
    "    growing window that adds subsequent line as target\n",
    "    assembles text and target in JSON file\n",
    "    \"\"\"\n",
    "    text_and_target_dict = {}\n",
    "    song = song.split('\\n')\n",
    "    base_lyric = song[1]\n",
    "    for lyric in song[2:]:\n",
    "        if lyric:\n",
    "            text_and_target_dict[base_lyric] = lyric\n",
    "            base_lyric += ('\\n ' + lyric)\n",
    "\n",
    "    return text_and_target_dict"
   ]
  },
  {
   "cell_type": "code",
   "execution_count": 20,
   "metadata": {
    "scrolled": false
   },
   "outputs": [],
   "source": [
    "test_dict = create_text_and_target(song)"
   ]
  },
  {
   "cell_type": "code",
   "execution_count": 25,
   "metadata": {},
   "outputs": [
    {
     "data": {
      "text/plain": [
       "\"They wishin' on me, yeah\""
      ]
     },
     "execution_count": 25,
     "metadata": {},
     "output_type": "execute_result"
    }
   ],
   "source": [
    "test_dict[ 'And they wishin\\' and wishin\\' and wishin\\' and wishin\\'\\n They wishin\\' on me, yuh\\n I been movin\\' calm, don\\'t start no trouble with me\\n Tryna keep it peaceful is a struggle for me\\n Don\\'t pull up at 6 AM to cuddle with me\\n You know how I like it when you lovin\\' on me\\n I don\\'t wanna die for them to miss me\\n Yes, I see the things that they wishin\\' on me\\n Hope I got some brothers that outlive me\\n They gon\\' tell the story, shit was different with me\\n God\\'s plan, God\\'s plan\\n I hold back, sometimes I won\\'t, yuh\\n I feel good, sometimes I don\\'t, ayy, don\\'t\\n I finessed down Weston Road, ayy, \\'nessed\\n Might go down a G.O.D., yeah, wait\\n I go hard on Southside G, yuh, wait\\n I make sure that north-side eat\\n And still, bad things\\n It\\'s a lot of bad things\\n That they wishin\\' and wishin\\' and wishin\\' and wishin\\'\\n They wishin\\' on me\\n Bad things\\n It\\'s a lot of bad things\\n That they wishin\\' and wishin\\' and wishin\\' and wishin\\'\\n They wishin\\' on me\\n Yuh, ayy, ayy\\n She say, \"Do you love me?\" I tell her, \"Only partly\\n I only love my bed and my mama, I\\'m sorry\"\\n Fifty Dub, I even got it tatted on me\\n 81, they\\'ll bring the crashers to the party\\n And you know me\\n Turn the O2 into the O3, dog\\n Without 40, Oli, there\\'d be no me\\n \\'Magine if I never met the broskies\\n God\\'s plan, God\\'s plan\\n I can\\'t do this on my own, ayy, no, ayy\\n Someone watchin\\' this shit close, yep, close\\n I\\'ve been me since Scarlett Road, ayy, road, ayy\\n Might go down as G.O.D., yeah, wait\\n I go hard on Southside G, ayy, wait\\n I make sure that north-side eat, yuh\\n And still, bad things\\n It\\'s a lot of bad things\\n That they wishin\\' and wishin\\' and wishin\\' and wishin\\'\\n They wishin\\' on me, yeah, yeah\\n Bad things\\n It\\'s a lot of bad things\\n That they wishin\\' and wishin\\' and wishin\\' and wishin\\'']"
   ]
  },
  {
   "cell_type": "code",
   "execution_count": 4,
   "metadata": {},
   "outputs": [],
   "source": [
    "from collections import defaultdict\n",
    "import pickle as pkl\n",
    "import re\n",
    "RETOK = re.compile(r'\\w+|[^\\w\\s\\[\\]]|\\n', re.UNICODE)"
   ]
  },
  {
   "cell_type": "code",
   "execution_count": 75,
   "metadata": {},
   "outputs": [],
   "source": [
    "from lyricsgenius.api import *"
   ]
  }
 ],
 "metadata": {
  "kernelspec": {
   "display_name": "Python 3",
   "language": "python",
   "name": "python3"
  },
  "language_info": {
   "codemirror_mode": {
    "name": "ipython",
    "version": 3
   },
   "file_extension": ".py",
   "mimetype": "text/x-python",
   "name": "python",
   "nbconvert_exporter": "python",
   "pygments_lexer": "ipython3",
   "version": "3.6.5"
  }
 },
 "nbformat": 4,
 "nbformat_minor": 2
}
